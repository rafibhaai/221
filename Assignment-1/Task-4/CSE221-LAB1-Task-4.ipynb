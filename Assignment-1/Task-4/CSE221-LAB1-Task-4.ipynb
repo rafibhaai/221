{
 "cells": [
  {
   "cell_type": "code",
   "execution_count": 1,
   "metadata": {},
   "outputs": [],
   "source": [
    "with open(\"input.txt\", 'r') as txt:\n",
    "  size = int(txt.readline().strip())\n",
    "  var = []\n",
    "  time = []\n",
    "  train_name = []\n",
    "\n",
    "  for i in range(1,size):\n",
    "    store = txt.readline().strip()\n",
    "    var.append(store)\n",
    "    train_name.append(store.split()[0])\n",
    "    time.append(store.split()[-1])\n",
    "\n",
    "  for i in range(len(train_name)):\n",
    "    for j in range(len(train_name)-i-1):\n",
    "      if train_name[j] > train_name[j+1]:\n",
    "        train_name[j], train_name[j+1] = train_name[j+1], train_name[j]\n",
    "        var[j], var[j+1] = var[j+1], var[j]\n",
    "\n",
    "      if train_name[j] == train_name[j+1]:\n",
    "        if time[j] > time[j+1]:\n",
    "          time[j], time[j+1] = time[j+1], time[j]\n",
    "          var[j], var[j+1] = var[j+1], var[j]\n",
    "\n",
    "with open(\"output.txt\", 'w') as abc:\n",
    "  for i in range(len(var)):\n",
    "    abc.write(var[i]+'\\n')"
   ]
  }
 ],
 "metadata": {
  "kernelspec": {
   "display_name": "Python 3",
   "language": "python",
   "name": "python3"
  },
  "language_info": {
   "codemirror_mode": {
    "name": "ipython",
    "version": 3
   },
   "file_extension": ".py",
   "mimetype": "text/x-python",
   "name": "python",
   "nbconvert_exporter": "python",
   "pygments_lexer": "ipython3",
   "version": "3.12.1"
  }
 },
 "nbformat": 4,
 "nbformat_minor": 2
}
