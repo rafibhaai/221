{
 "cells": [
  {
   "cell_type": "code",
   "execution_count": 1,
   "metadata": {},
   "outputs": [],
   "source": [
    "with open(\"input.txt\", 'r') as txt:\n",
    "  var = txt.readlines()\n",
    "  for x in range(1,len(var)):\n",
    "    x = var[x].split(' ')\n",
    "  #print(x)\n",
    "def bubbleSort(arr):\n",
    "  #print(arr)\n",
    "  for i in range(len(arr)-1):\n",
    "    flag = False\n",
    "    for j in range(len(arr)-i-1):\n",
    "\n",
    "      arr[j] = int(arr[j])\n",
    "      arr[j+1] = int(arr[j+1])\n",
    "      if arr[j] > arr[j+1]:\n",
    "        arr[j], arr[j+1] = arr[j+1], arr[j]\n",
    "        flag = True\n",
    "    if flag == False:\n",
    "      break\n",
    "  return arr\n",
    "y = bubbleSort(x)\n",
    "\n",
    "with open(\"output.txt\",'w') as abc :\n",
    "  for i in y:\n",
    "    abc.write(str(i)+' ')\n",
    "\n",
    "\n",
    "#By taking flags,when we set the value to False,it is updating to True everytime\n",
    "#it fulfills the condition of the inner loop of the bubble algorithm,so when swapping\n",
    "#is done, flag is set to False and the loop breaks.So,when the input file is\n",
    "#already sorted, the inner loop runs for one iteration of outer loop until\n",
    "#the loop breaks making the time complexity O(n)."
   ]
  }
 ],
 "metadata": {
  "kernelspec": {
   "display_name": "Python 3",
   "language": "python",
   "name": "python3"
  },
  "language_info": {
   "codemirror_mode": {
    "name": "ipython",
    "version": 3
   },
   "file_extension": ".py",
   "mimetype": "text/x-python",
   "name": "python",
   "nbconvert_exporter": "python",
   "pygments_lexer": "ipython3",
   "version": "3.12.1"
  }
 },
 "nbformat": 4,
 "nbformat_minor": 2
}
