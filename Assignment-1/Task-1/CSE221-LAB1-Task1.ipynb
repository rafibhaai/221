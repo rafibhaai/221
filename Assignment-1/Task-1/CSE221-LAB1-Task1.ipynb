{
 "cells": [
  {
   "cell_type": "code",
   "execution_count": 35,
   "metadata": {},
   "outputs": [],
   "source": [
    "# Task 1 (a)\n",
    "with open (\"input1a.txt\", 'r') as box:\n",
    "  content = box.readlines()\n",
    "  lst = []\n",
    "  for i in content:\n",
    "    i = int(i)\n",
    "    if (i%2==0):\n",
    "      temp = f\"{i} is an Even Number\"\n",
    "    else:\n",
    "      temp = f\" {i} is a Odd Number\"\n",
    "    lst.append(temp)\n",
    "\n",
    "with open(\"output1a.txt\", \"w\") as box:\n",
    "  for i in lst:\n",
    "    box.write(i+ \"\\n\")"
   ]
  },
  {
   "cell_type": "code",
   "execution_count": 36,
   "metadata": {},
   "outputs": [],
   "source": [
    "# Task 1 (b)\n",
    "with open(\"input1b.txt\",'r') as abc:\n",
    "  lst = []\n",
    "  var = abc.readlines()\n",
    "  #print(var)\n",
    "  for i in range(1,len(var)):\n",
    "    var2 = var[i].split(' ')\n",
    "    #print(var2)\n",
    "    oper = var2[2]\n",
    "    num1 = int(var2[1])\n",
    "    num2 = int(var2[3])\n",
    "    if oper == '+':\n",
    "      v = num1 + num2\n",
    "      #print(f'The result  of {var2[1]}- {int(var2[3])} is {num1 + num2}')\n",
    "    elif oper == '-':\n",
    "      v = num1 - num2\n",
    "      #print(f'The result  of {var2[1]}- {int(var2[3])} is {num1 - num2}')\n",
    "    elif oper == '/':\n",
    "      v = num1 / num2\n",
    "      #print(f'The result  of {var2[1]}/ {int(var2[3])} is {num1 / num2}')\n",
    "    else:\n",
    "      v = num1 * num2\n",
    "      #print(f'The result  of {var2[1]} * {int(var2[3])} is {num1 * num2}')\n",
    "    lst.append(f'The result  of {var2[1]} + {int(var2[3])} is {v}')\n",
    "\n",
    "with open(\"output1b.txt\",'w') as txt:\n",
    "  for i in lst:\n",
    "    txt.write(i+'\\n')"
   ]
  }
 ],
 "metadata": {
  "kernelspec": {
   "display_name": "Python 3",
   "language": "python",
   "name": "python3"
  },
  "language_info": {
   "codemirror_mode": {
    "name": "ipython",
    "version": 3
   },
   "file_extension": ".py",
   "mimetype": "text/x-python",
   "name": "python",
   "nbconvert_exporter": "python",
   "pygments_lexer": "ipython3",
   "version": "3.12.1"
  }
 },
 "nbformat": 4,
 "nbformat_minor": 2
}
