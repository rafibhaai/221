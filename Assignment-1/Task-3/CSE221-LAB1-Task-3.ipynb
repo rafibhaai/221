{
 "cells": [
  {
   "cell_type": "code",
   "execution_count": 2,
   "metadata": {},
   "outputs": [],
   "source": [
    "with open(\"input.txt\", 'r') as text:\n",
    "  var = text.readlines()\n",
    "  id = var[1].split(' ')\n",
    "  marks = var[2].split(' ')\n",
    "\n",
    "def selection_sort(arr,li):\n",
    "\n",
    "  for i in range(len(arr)):\n",
    "    max_marks = i\n",
    "\n",
    "    for j in range(i+1,len(arr)):\n",
    "      arr[j] = int(arr[j])\n",
    "      arr[max_marks] = int(arr[max_marks])\n",
    "      if arr[max_marks] < arr[j]:\n",
    "        max_marks = j\n",
    "\n",
    "    key = arr[max_marks]\n",
    "    st_id = li[max_marks]\n",
    "\n",
    "    while max_marks > i:\n",
    "      arr[max_marks] = arr[max_marks-1]\n",
    "\n",
    "      li[max_marks] = li[max_marks-1]\n",
    "      max_marks-=1\n",
    "    arr[i] = key\n",
    "    li[i] = st_id\n",
    "\n",
    "  return arr,li\n",
    "\n",
    "arr_marks,arr_id=selection_sort(marks,id)\n",
    "#print(arr_marks)\n",
    "#print(arr_id)\n",
    "def helper(arr2):\n",
    "  for i in range(len(arr_marks)):\n",
    "    for j in range(i+1,len(marks)):\n",
    "      if arr_marks[i] == arr_marks[j]:\n",
    "        if arr2[i] > arr2[j]:\n",
    "          arr2[i],arr2[j] = arr2[j],arr2[i]\n",
    "\n",
    "  return arr2\n",
    "\n",
    "x_id = helper(arr_id)\n",
    "#print(x_id)\n",
    "with open(\"output.txt\", 'w') as fl:\n",
    "  for i in range(len(arr_marks)):\n",
    "    fl.write(f'ID: {int(x_id[i])} Mark: {arr_marks[i]}\\n')\n",
    "\n",
    "\n"
   ]
  }
 ],
 "metadata": {
  "kernelspec": {
   "display_name": "Python 3",
   "language": "python",
   "name": "python3"
  },
  "language_info": {
   "codemirror_mode": {
    "name": "ipython",
    "version": 3
   },
   "file_extension": ".py",
   "mimetype": "text/x-python",
   "name": "python",
   "nbconvert_exporter": "python",
   "pygments_lexer": "ipython3",
   "version": "3.12.1"
  }
 },
 "nbformat": 4,
 "nbformat_minor": 2
}
