{
 "cells": [
  {
   "cell_type": "code",
   "execution_count": 1,
   "metadata": {},
   "outputs": [],
   "source": [
    "\n",
    "with open(\"input4.txt\",\"r\") as file :\n",
    "  n = int(file.readline())\n",
    "  arr = list(map(int,file.readline().split(\" \")))\n",
    "\n",
    "\n",
    "output = open(\"output4.txt\",\"w\")\n",
    "\n",
    "def merge(a, b):\n",
    "    global li\n",
    "    arr1 = a\n",
    "    arr2 = b\n",
    "    arr2_new = []\n",
    "    for i in arr2 :\n",
    "      arr2_new.append(abs(i))\n",
    "    x = max(arr1)\n",
    "    y = max(arr2_new)\n",
    "    cal = x+y**2\n",
    "    li.append(cal)\n",
    "    arr = a+b\n",
    "    return arr\n",
    "\n",
    "\n",
    "def mergeSort(arr):\n",
    "    if len(arr) <= 1:\n",
    "        return arr\n",
    "    else:\n",
    "        mid = len(arr)//2\n",
    "        a1 = mergeSort(arr[:mid])\n",
    "        a2 = mergeSort(arr[mid:])\n",
    "        a = merge(a1, a2)\n",
    "        return a\n",
    "\n",
    "li = []\n",
    "a = mergeSort(arr)\n",
    "print(max(li),file = output)\n",
    "output.close()"
   ]
  }
 ],
 "metadata": {
  "kernelspec": {
   "display_name": "Python 3",
   "language": "python",
   "name": "python3"
  },
  "language_info": {
   "codemirror_mode": {
    "name": "ipython",
    "version": 3
   },
   "file_extension": ".py",
   "mimetype": "text/x-python",
   "name": "python",
   "nbconvert_exporter": "python",
   "pygments_lexer": "ipython3",
   "version": "3.12.1"
  }
 },
 "nbformat": 4,
 "nbformat_minor": 2
}
