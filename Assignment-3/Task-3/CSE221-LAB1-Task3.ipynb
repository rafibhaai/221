{
 "cells": [
  {
   "cell_type": "code",
   "execution_count": 1,
   "metadata": {},
   "outputs": [],
   "source": [
    "\n",
    "\n",
    "with open(\"input3.txt\",\"r\") as file :\n",
    "  n = int(file.readline())\n",
    "  arr = list(map(int,file.readline().split(\" \")))\n",
    "\n",
    "li = []\n",
    "count = 0\n",
    "\n",
    "output = open(\"output3.txt\",\"w\")\n",
    "\n",
    "def merge(a, b, count):\n",
    "    arr1 = a\n",
    "    arr2 = b\n",
    "    m = len(arr1)\n",
    "    n = len(arr2)\n",
    "    li = [0]*(m+n)\n",
    "    i,j,k = 0,0,0\n",
    "    while i < m and j < n :\n",
    "      if arr1[i] <= arr2[j] :\n",
    "        li[k] = arr1[i]\n",
    "        i += 1\n",
    "        k += 1\n",
    "      else :\n",
    "        li[k] = arr2[j]\n",
    "        count += len(arr1) - i\n",
    "        j += 1\n",
    "        k += 1\n",
    "    for a in range(n-j) :\n",
    "        li[k] = arr2[j]\n",
    "        k += 1\n",
    "        j += 1\n",
    "    for b in range(m-i) :\n",
    "        li[k] = arr1[i]\n",
    "        k += 1\n",
    "        i += 1\n",
    "    return li, count\n",
    "\n",
    "\n",
    "def mergeSort(arr,li):\n",
    "    if len(arr) <= 1:\n",
    "        return arr\n",
    "    else:\n",
    "        mid = len(arr)//2\n",
    "        a1 = mergeSort(arr[:mid],li)\n",
    "        a2 = mergeSort(arr[mid:],li)\n",
    "        a , b = merge(a1, a2, count)\n",
    "        li.append(b)\n",
    "        return a\n",
    "\n",
    "a = mergeSort(arr,li)\n",
    "sum = 0\n",
    "for i in li :\n",
    "  sum += i\n",
    "print(sum, file = output)\n",
    "output.close()"
   ]
  }
 ],
 "metadata": {
  "kernelspec": {
   "display_name": "Python 3",
   "language": "python",
   "name": "python3"
  },
  "language_info": {
   "codemirror_mode": {
    "name": "ipython",
    "version": 3
   },
   "file_extension": ".py",
   "mimetype": "text/x-python",
   "name": "python",
   "nbconvert_exporter": "python",
   "pygments_lexer": "ipython3",
   "version": "3.12.1"
  }
 },
 "nbformat": 4,
 "nbformat_minor": 2
}
