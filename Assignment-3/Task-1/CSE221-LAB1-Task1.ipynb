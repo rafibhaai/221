{
 "cells": [
  {
   "cell_type": "code",
   "execution_count": 1,
   "metadata": {},
   "outputs": [],
   "source": [
    "\n",
    "with open(\"input1.txt\",\"r\") as file :\n",
    "  a = int(file.readline())\n",
    "  li = list(map(int,file.readline().split(\" \")))\n",
    "\n",
    "output_file = open(\"output1.txt\",\"w\")\n",
    "\n",
    "\n",
    "def merge(a, b):\n",
    "    arr1 = a\n",
    "    arr2 = b\n",
    "    m = len(arr1)\n",
    "    n = len(arr2)\n",
    "    li = [0]*(m+n)\n",
    "    i,j,k = 0,0,0\n",
    "    while i < m and j < n :\n",
    "      if arr1[i] < arr2[j] :\n",
    "        li[k] = arr1[i]\n",
    "        i += 1\n",
    "        k += 1\n",
    "      else :\n",
    "        li[k] = arr2[j]\n",
    "        j += 1\n",
    "        k += 1\n",
    "    for a in range(n-j) :\n",
    "        li[k] = arr2[j]\n",
    "        k += 1\n",
    "        j += 1\n",
    "    for b in range(m-i) :\n",
    "        li[k] = arr1[i]\n",
    "        k += 1\n",
    "        i += 1\n",
    "    return li\n",
    "\n",
    "\n",
    "def mergeSort(arr):\n",
    "    if len(arr) <= 1:\n",
    "        return arr\n",
    "    else:\n",
    "        mid = len(arr)//2\n",
    "        a1 = mergeSort(arr[:mid])\n",
    "        a2 = mergeSort(arr[mid:])\n",
    "        return merge(a1, a2)\n",
    "\n",
    "x = mergeSort(li)\n",
    "s = \"\"\n",
    "for i in x :\n",
    "  s = s +\" \"+str(i)\n",
    "b = \" \".join(s)\n",
    "print(b, file = output_file )\n",
    "output_file.close()"
   ]
  }
 ],
 "metadata": {
  "kernelspec": {
   "display_name": "Python 3",
   "language": "python",
   "name": "python3"
  },
  "language_info": {
   "codemirror_mode": {
    "name": "ipython",
    "version": 3
   },
   "file_extension": ".py",
   "mimetype": "text/x-python",
   "name": "python",
   "nbconvert_exporter": "python",
   "pygments_lexer": "ipython3",
   "version": "3.12.1"
  }
 },
 "nbformat": 4,
 "nbformat_minor": 2
}
