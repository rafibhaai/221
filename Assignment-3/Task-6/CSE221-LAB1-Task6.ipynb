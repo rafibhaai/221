{
 "cells": [
  {
   "cell_type": "code",
   "execution_count": 1,
   "metadata": {},
   "outputs": [],
   "source": [
    "\n",
    "def partition(arr, low, high):\n",
    "    pivot = arr[high]\n",
    "    j = low - 1   ## remainder\n",
    "\n",
    "    for i in range(low, high):\n",
    "        if arr[i] <= pivot:\n",
    "            j += 1\n",
    "            arr[i], arr[j] = arr[j], arr[i]\n",
    "\n",
    "    arr[j + 1], arr[high] = arr[high], arr[j + 1]  ## remainder\n",
    "    if j+1 == k :\n",
    "          li.append(arr[j])\n",
    "    return j + 1    ## remainder\n",
    "\n",
    "def quickSort(arr, low, high):\n",
    "    global li\n",
    "    if low < high:\n",
    "        pi = partition(arr, low, high)\n",
    "        quickSort(arr, low, pi - 1)\n",
    "        quickSort(arr, pi + 1, high)\n",
    "\n",
    "bb = []\n",
    "with open(\"input6.txt\",\"r\") as file :\n",
    "  n = file.readline().split(\" \")\n",
    "  arr = list(map(int,file.readline().split(\" \")))\n",
    "  loop = file.readline().split(\" \")\n",
    "  for i in range(int(loop[0])) :\n",
    "    b = int(file.readline())\n",
    "    bb.append(b)\n",
    "\n",
    "output = open(\"output6.txt\",\"w\")\n",
    "\n",
    "for i in range(len(bb)) :\n",
    "  k = bb[i]\n",
    "  li = []\n",
    "  arr = [10, 11 ,10, 6, 7, 9 ,8 ,15, 2]\n",
    "  quickSort(arr, 0, len(arr) - 1)\n",
    "  print(li[0],file = output )\n",
    "\n",
    "output.close()"
   ]
  }
 ],
 "metadata": {
  "kernelspec": {
   "display_name": "Python 3",
   "language": "python",
   "name": "python3"
  },
  "language_info": {
   "codemirror_mode": {
    "name": "ipython",
    "version": 3
   },
   "file_extension": ".py",
   "mimetype": "text/x-python",
   "name": "python",
   "nbconvert_exporter": "python",
   "pygments_lexer": "ipython3",
   "version": "3.12.1"
  }
 },
 "nbformat": 4,
 "nbformat_minor": 2
}
