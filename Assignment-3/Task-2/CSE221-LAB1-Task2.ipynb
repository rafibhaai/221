{
 "cells": [
  {
   "cell_type": "code",
   "execution_count": 1,
   "metadata": {},
   "outputs": [],
   "source": [
    "\n",
    "with open(\"input2.txt\",\"r\") as file :\n",
    "  a = int(file.readline())\n",
    "  arr = list(map(int,file.readline().split(\" \")))\n",
    "\n",
    "output_file = open(\"output2.txt\",\"w\")\n",
    "\n",
    "\n",
    "def max(a,b):\n",
    "    if a > b :\n",
    "        return a\n",
    "    else:\n",
    "        return b\n",
    "\n",
    "def mergesort(arr):\n",
    "    l = 0\n",
    "    r = len(arr)\n",
    "    if len(arr) == 1 :\n",
    "      return arr\n",
    "    if l < r:\n",
    "        mid = (l+r)//2\n",
    "        L = mergesort(arr[:mid])\n",
    "        R = mergesort(arr[mid:])\n",
    "        return max(L,R)\n",
    "\n",
    "\n",
    "x = mergesort(arr)\n",
    "# print(x)\n",
    "b = x[0]\n",
    "# print(b, file = output_file )\n",
    "output_file.write(str(b))\n",
    "output_file.close()"
   ]
  }
 ],
 "metadata": {
  "kernelspec": {
   "display_name": "Python 3",
   "language": "python",
   "name": "python3"
  },
  "language_info": {
   "codemirror_mode": {
    "name": "ipython",
    "version": 3
   },
   "file_extension": ".py",
   "mimetype": "text/x-python",
   "name": "python",
   "nbconvert_exporter": "python",
   "pygments_lexer": "ipython3",
   "version": "3.12.1"
  }
 },
 "nbformat": 4,
 "nbformat_minor": 2
}
