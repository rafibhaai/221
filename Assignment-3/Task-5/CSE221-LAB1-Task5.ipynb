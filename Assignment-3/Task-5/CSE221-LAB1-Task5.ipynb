{
 "cells": [
  {
   "cell_type": "code",
   "execution_count": 1,
   "metadata": {},
   "outputs": [],
   "source": [
    "\n",
    "\n",
    "with open(\"input5.txt\",\"r\") as file :\n",
    "  n = int(file.readline())\n",
    "  arr = list(map(int,file.readline().split(\" \")))\n",
    "\n",
    "output = open(\"output5.txt\",\"w\")\n",
    "\n",
    "def partition(arr, l, h):\n",
    "    pivot = arr[l]\n",
    "    i = l\n",
    "    j = h\n",
    "    while i < j:\n",
    "        while arr[i] <= pivot and i < h:\n",
    "            i += 1\n",
    "        while arr[j] > pivot and j > l:\n",
    "            j -= 1\n",
    "        if i < j:\n",
    "            arr[i], arr[j] = arr[j], arr[i]\n",
    "    arr[l], arr[j] = arr[j], arr[l]   ## remainder\n",
    "    return j\n",
    "\n",
    "def quickSort(arr, l, h):\n",
    "    if l < h:\n",
    "        j = partition(arr, l, h)\n",
    "        quickSort(arr, l, j - 1)\n",
    "        quickSort(arr, j + 1, h)\n",
    "\n",
    "quickSort(arr, 0, len(arr) - 1)\n",
    "x = arr\n",
    "s = \"\"\n",
    "for i in x :\n",
    "  s = s +\" \"+str(i)\n",
    "b = \" \".join(s)\n",
    "print(b, file = output )\n",
    "output.close()"
   ]
  }
 ],
 "metadata": {
  "kernelspec": {
   "display_name": "Python 3",
   "language": "python",
   "name": "python3"
  },
  "language_info": {
   "codemirror_mode": {
    "name": "ipython",
    "version": 3
   },
   "file_extension": ".py",
   "mimetype": "text/x-python",
   "name": "python",
   "nbconvert_exporter": "python",
   "pygments_lexer": "ipython3",
   "version": "3.12.1"
  }
 },
 "nbformat": 4,
 "nbformat_minor": 2
}
